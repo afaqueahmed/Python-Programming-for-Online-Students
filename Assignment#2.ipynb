{
 "cells": [
  {
   "cell_type": "code",
   "execution_count": 1,
   "metadata": {},
   "outputs": [
    {
     "name": "stdout",
     "output_type": "stream",
     "text": [
      "Math: 77\n",
      "Physics: 88\n",
      "Chemistry: 55\n",
      "English: 99\n",
      "Computer: 66\n",
      "\n",
      "Obtained Marks =  385\n",
      "\n",
      "Total Marks: 500\n",
      "\n",
      "Obtained 'B' Grade \n",
      "Percentage =  77.0 %\n"
     ]
    }
   ],
   "source": [
    "Math = (input(\"Math: \"))\n",
    "Physics = (input(\"Physics: \"))\n",
    "Chemistry = (input(\"Chemistry: \"))\n",
    "English = (input(\"English: \"))\n",
    "Computer = (input(\"Computer: \"))\n",
    "\n",
    "math = int(Math)\n",
    "physics = int(Physics)\n",
    "chemistry = int(Chemistry)\n",
    "english = int(English)\n",
    "computer = int(Computer)\n",
    "\n",
    "Obtained = math + physics + chemistry + english + computer\n",
    "print(\"\\nObtained Marks = \",Obtained)\n",
    "Total = int(input(\"\\nTotal Marks: \"))\n",
    "\n",
    "Percentage = (Obtained / Total) * 100\n",
    "if(Percentage >= 80):\n",
    "    print(\"\\nObtained 'A' Grade\",\"\\nPercentage = \",Percentage,\"%\")\n",
    "elif(Percentage >= 70) and (Percentage < 80):\n",
    "    print(\"\\nObtained 'B' Grade\",\"\\nPercentage = \",Percentage,\"%\")\n",
    "elif(Percentage >= 60) and (Percentage < 70):\n",
    "    print(\"\\nObtained 'C' Grade\",\"\\nPercentage = \",Percentage,\"%\")\n",
    "elif(Percentage >= 50) and (Percentage < 60):\n",
    "    print(\"\\nObtained 'D' Grade\",\"\\nPercentage = \",Percentage,\"%\")\n",
    "else:\n",
    "    print(\"\\nFail\")"
   ]
  },
  {
   "cell_type": "code",
   "execution_count": 2,
   "metadata": {},
   "outputs": [
    {
     "name": "stdout",
     "output_type": "stream",
     "text": [
      "Enter the number: 6\n",
      "6  is Even number\n"
     ]
    }
   ],
   "source": [
    "num = int(input('Enter the number: '))\n",
    "if (num%2==0):\n",
    "     print(num,\" is Even number\")\n",
    "else:\n",
    "    print(num,\" is Odd number\")"
   ]
  },
  {
   "cell_type": "code",
   "execution_count": 3,
   "metadata": {},
   "outputs": [
    {
     "name": "stdout",
     "output_type": "stream",
     "text": [
      "7\n"
     ]
    }
   ],
   "source": [
    "List = [1,2,\"Afaque\",4,5,6,\"Patoli\"]\n",
    "print(len(List))"
   ]
  },
  {
   "cell_type": "code",
   "execution_count": 4,
   "metadata": {},
   "outputs": [
    {
     "name": "stdout",
     "output_type": "stream",
     "text": [
      "475\n"
     ]
    }
   ],
   "source": [
    "List = [99,55,88,64,78,91]\n",
    "print(sum(List))"
   ]
  },
  {
   "cell_type": "code",
   "execution_count": 6,
   "metadata": {},
   "outputs": [
    {
     "name": "stdout",
     "output_type": "stream",
     "text": [
      "Largest number is:  2019\n"
     ]
    }
   ],
   "source": [
    "List = [100, 2019, 1204, 145, 99] \n",
    "List.sort()  \n",
    "print(\"Largest number is: \", List[-1]) "
   ]
  },
  {
   "cell_type": "code",
   "execution_count": 13,
   "metadata": {},
   "outputs": [
    {
     "name": "stdout",
     "output_type": "stream",
     "text": [
      "1\n",
      "\n",
      "1\n",
      "\n",
      "2\n",
      "\n",
      "3\n",
      "\n",
      "3\n",
      "\n",
      "1\n",
      "\n"
     ]
    }
   ],
   "source": [
    "test_list= [1, 1, 2, 3, 5, 8, 13, 21 , 3, 34, 55, 89, 1]\n",
    "for element in test_list:\n",
    "    if(int(element) <5):\n",
    "        print(str(element)+\"\\n\")"
   ]
  },
  {
   "cell_type": "code",
   "execution_count": null,
   "metadata": {},
   "outputs": [],
   "source": []
  },
  {
   "cell_type": "code",
   "execution_count": null,
   "metadata": {},
   "outputs": [],
   "source": []
  }
 ],
 "metadata": {
  "kernelspec": {
   "display_name": "Python 3",
   "language": "python",
   "name": "python3"
  },
  "language_info": {
   "codemirror_mode": {
    "name": "ipython",
    "version": 3
   },
   "file_extension": ".py",
   "mimetype": "text/x-python",
   "name": "python",
   "nbconvert_exporter": "python",
   "pygments_lexer": "ipython3",
   "version": "3.7.4"
  }
 },
 "nbformat": 4,
 "nbformat_minor": 2
}
